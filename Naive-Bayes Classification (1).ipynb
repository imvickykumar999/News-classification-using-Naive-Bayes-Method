{
 "cells": [
  {
   "cell_type": "markdown",
   "metadata": {},
   "source": [
    "# News classification model using Naive Bayes Classification method"
   ]
  },
  {
   "cell_type": "code",
   "execution_count": 40,
   "metadata": {},
   "outputs": [
    {
     "data": {
      "text/plain": [
       "['alt.atheism',\n",
       " 'comp.graphics',\n",
       " 'comp.os.ms-windows.misc',\n",
       " 'comp.sys.ibm.pc.hardware',\n",
       " 'comp.sys.mac.hardware',\n",
       " 'comp.windows.x',\n",
       " 'misc.forsale',\n",
       " 'rec.autos',\n",
       " 'rec.motorcycles',\n",
       " 'rec.sport.baseball',\n",
       " 'rec.sport.hockey',\n",
       " 'sci.crypt',\n",
       " 'sci.electronics',\n",
       " 'sci.med',\n",
       " 'sci.space',\n",
       " 'soc.religion.christian',\n",
       " 'talk.politics.guns',\n",
       " 'talk.politics.mideast',\n",
       " 'talk.politics.misc',\n",
       " 'talk.religion.misc']"
      ]
     },
     "execution_count": 40,
     "metadata": {},
     "output_type": "execute_result"
    }
   ],
   "source": [
    "%matplotlib inline\n",
    "import numpy as np\n",
    "import pandas as pd\n",
    "import matplotlib.pyplot as plt\n",
    "import seaborn as sns; sns.set() \n",
    "from sklearn.datasets import fetch_20newsgroups\n",
    "data=fetch_20newsgroups() \n",
    "categories = data.target_names\n",
    "categories"
   ]
  },
  {
   "cell_type": "code",
   "execution_count": 41,
   "metadata": {
    "scrolled": true
   },
   "outputs": [
    {
     "name": "stdout",
     "output_type": "stream",
     "text": [
      "From: banschbach@vms.ocom.okstate.edu\n",
      "Subject: Re: Candida(yeast) Bloom, Fact or Fiction\n",
      "Organization: OSU College of Osteopathic Medicine\n",
      "Lines: 91\n",
      "Nntp-Posting-Host: vms.ocom.okstate.edu\n",
      "\n",
      "In article <1rp8p1$2d3@usenet.INS.CWRU.Edu>, esd3@po.CWRU.Edu (Elisabeth S. Davidson) writes:\n",
      "> \n",
      "> In a previous article, banschbach@vms.ocom.okstate.edu () says:\n",
      ">>least a few \"enlightened\" physicians practicing in the U.S.  It's really \n",
      ">>too bad that most U.S. medical schools don't cover nutrition because if \n",
      ">>they did, candida would not be viewed as a non-disease by so many in the \n",
      ">>medical profession.\n",
      "> \n",
      "> Case Western Reserve Med School teaches nutrition in its own section as\n",
      "> well as covering it in other sections as they apply (i.e. B12\n",
      "> deficiency in neuro as a cause of neuropathy, B12 deficiency in\n",
      "> hematology as a cause of megaloblastic anemia), yet I sill\n",
      "> hold the viewpoint of mainstream medicine:  candida can cause\n",
      "> mucocutaneous candidiasis, and, in already very sick patients\n",
      "> with damaged immune systems like AIDS and cancer patients,\n",
      "> systemic candida infection.  I think \"The Yeast Connection\" is\n",
      "> a bunch of hooey.  What does this have to do with how well\n",
      "> nutrition is taught, anyway?\n",
      "\n",
      "Elisabeth, let's set the record straight for the nth time, I have not read \n",
      "\"The Yeast Connection\".  So anything that I say is not due to brainwashing \n",
      "by this \"hated\" book.  It's okay I guess to hate the book, by why hate me?\n",
      "Elisabeth, I'm going to quote from Zinsser's Microbiology, 20th Edition.\n",
      "A book that you should be familiar with and not \"hate\". \"Candida species \n",
      "colonize the mucosal surfaces of all humans during birth or shortly \n",
      "thereafter.  The risk of endogenous infection is clearly ever present.  \n",
      "Indeed, candidiasis occurs worldwide and is the most common systemic \n",
      "mycosis.\"  Neutrophils play the main role in preventing a systemic \n",
      "infection(candidiasis) so you would have to have a low neutrophil count or \n",
      "\"sick\" neutrophils to see a systemic infection.  Poor diet and persistent \n",
      "parasitic infestation set many third world residents up for candidiasis.\n",
      "Your assessment of candidiasis in the U.S. is correct and I do not dispute \n",
      "it.\n",
      "\n",
      "What I posted was a discussion of candida blooms, without systemic \n",
      "infection.  These blooms would be responsible for local sites of irritation\n",
      "(GI tract, mouth, vagina and sinus cavity).  Knocking down the bacterial \n",
      "competition for candida was proposed as a possible trigger for candida \n",
      "blooms.  Let me quote from Zinsser's again: \"However, some factors, such as \n",
      "the use of a broad-spectrum antibacterial antibiotic, may predispose to \n",
      "both mucosal and systemic infections\".  I was addressing mucosal infections\n",
      "(I like the term blooms better).  The nutrition course that I teach covers \n",
      "this effect of antibiotic treatment as well as the \"cure\".  I guess that \n",
      "your nutrition course does not, too bad.  \n",
      "\n",
      "\n",
      ">>Here is a brief primer on yeast.  Yeast infections, as they are commonly \n",
      ">>called, are not truely caused by yeasts.  The most common organism responsible\n",
      ">>for this type of infection is Candida albicans or Monilia which is actually a \n",
      ">>yeast-like fungus.  \n",
      "> \n",
      "> Well, maybe I'm getting picky, but I always thought that a yeast\n",
      "> was one form that a fungus could exist in, the other being the\n",
      "> mold form.  Many fungi can occur as either yeasts or molds, \n",
      "> depending on environment.  Candida exibits what is known as\n",
      "> reverse dimorphism - it exists as a mold in the tissues\n",
      "> but exists as a yeast in the environment.  Should we maybe\n",
      "> call it a mold infection?  a fungus infection?  Maybe we\n",
      "> should say it is caused by a mold-like fungus.\n",
      ">  \n",
      ">> \n",
      ">>Martin Banschbach, Ph.D.\n",
      ">>Professor of Biochemistry and Chairman\n",
      ">>Department of Biochemistry and Microbiology\n",
      ">>OSU College of Osteopathic Medicine\n",
      ">>1111 West 17th St.\n",
      ">>Tulsa, Ok. 74107\n",
      ">>\n",
      "> \n",
      "> You're the chairman of Biochem and Micro and you didn't know \n",
      "> that a yeast is a form of a fungus?  (shudder)\n",
      "> Or maybe you did know, and were oversimplifying?\n",
      "\n",
      "My, my Elisabeth, do I detect a little of Steve Dyer in you?  If you \n",
      "noticed my faculty rank, I'm a biochemist, not a microbiologist.\n",
      "Candida is classifed as a fungus(according to Zinsser's).  But, as you point \n",
      "out, it displays dimorphism.  It is capable of producing yeast cells, \n",
      "pseudohyphae and true hyphae.  Elisabeth, you are probably a microbiologist \n",
      "and that makes a lot of sense to you.  To a biochemist, it's a lot of \n",
      "Greek.  So I called it a yeast-like fungus, go ahead and crucify me.\n",
      "\n",
      "You know Elisabeth, I still haven't been able to figure out why such a small \n",
      "little organism like Candida can bring out so much hostility in people in \n",
      "Sci. Med.  And I must admitt that I got sucked into the mud slinging too.\n",
      "I keep hoping that if people will just take the time to think about what \n",
      "I've said, that it will make sense.  I'm not asking anyone here to buy into \n",
      "\"The Yeast Connection\" book because I don't know what's in that book, plain \n",
      "and simple. And to be honest with you, I'm beginning to wish that it was never \n",
      "written.\n",
      "\n",
      "Marty B.\n",
      "\n",
      "11314\n"
     ]
    }
   ],
   "source": [
    "#training the data on these categories\n",
    "train=fetch_20newsgroups(subset='train',categories=categories)\n",
    "#testing the data on these categories\n",
    "test=fetch_20newsgroups(subset='test',categories=categories)\n",
    "#printing the  training data value at 5th position data \n",
    "\n",
    "print(test.data[5])\n",
    "#printing the length of the training data\n",
    "print(len(train.data))"
   ]
  },
  {
   "cell_type": "code",
   "execution_count": 42,
   "metadata": {},
   "outputs": [],
   "source": [
    "from sklearn.feature_extraction.text import TfidfVectorizer #<-- these weights different words in the document based on many features like from,crime etc as per the appearence\n",
    "from sklearn.naive_bayes import MultinomialNB\n",
    "from sklearn.pipeline import make_pipeline #<--these is used for information transfer\n",
    "#creating a model based on multinomial naive bayes\n",
    "model=make_pipeline(TfidfVectorizer(),MultinomialNB())#<--the information we are getting in TfidfVectorizer is pumped in MultinomialNM() using make_pipeline function\n",
    "\n",
    "#training the model with the train data\n",
    "model.fit(train.data,train.target)\n",
    "\n",
    "#creating the label for test data\n",
    "labels=model.predict(test.data)\n"
   ]
  },
  {
   "cell_type": "code",
   "execution_count": 43,
   "metadata": {},
   "outputs": [
    {
     "data": {
      "text/plain": [
       "Text(89.133125, 0.5, 'predicted labels')"
      ]
     },
     "execution_count": 43,
     "metadata": {},
     "output_type": "execute_result"
    },
    {
     "data": {
      "image/png": "[encoded data removed]",
      "text/plain": [
       "<Figure size 432x288 with 1 Axes>"
      ]
     },
     "metadata": {},
     "output_type": "display_data"
    }
   ],
   "source": [
    "from sklearn.metrics import confusion_matrix\n",
    "mat=confusion_matrix(test.target,labels)\n",
    "sns.heatmap(mat.T,square=True,annot=True,fmt='d',cbar=False,xticklabels=train.target_names,yticklabels=train.target_names)\n",
    "#plotting heatmap of confusion matrix\n",
    "plt.xlabel(\"true labels\")\n",
    "plt.ylabel(\"predicted labels\")"
   ]
  },
  {
   "cell_type": "code",
   "execution_count": 44,
   "metadata": {},
   "outputs": [
    {
     "name": "stdout",
     "output_type": "stream",
     "text": [
      "[15]\n"
     ]
    },
    {
     "data": {
      "text/plain": [
       "'soc.religion.christian'"
      ]
     },
     "execution_count": 44,
     "metadata": {},
     "output_type": "execute_result"
    }
   ],
   "source": [
    "#predicting categories on new data based on trained data\n",
    "def predict_category(s,train=train,model=model):\n",
    "    pred=model.predict([s])\n",
    "    print(pred)\n",
    "    return train.target_names[pred[0]]\n",
    "    \n",
    "predict_category(\"i love u\")\n"
   ]
  },
  {
   "cell_type": "code",
   "execution_count": 45,
   "metadata": {},
   "outputs": [
    {
     "name": "stdout",
     "output_type": "stream",
     "text": [
      "[7]\n"
     ]
    },
    {
     "data": {
      "text/plain": [
       "'rec.autos'"
      ]
     },
     "execution_count": 45,
     "metadata": {},
     "output_type": "execute_result"
    }
   ],
   "source": [
    "predict_category('car is better than bus')"
   ]
  },
  {
   "cell_type": "code",
   "execution_count": 46,
   "metadata": {},
   "outputs": [
    {
     "name": "stdout",
     "output_type": "stream",
     "text": [
      "[14]\n"
     ]
    },
    {
     "data": {
      "text/plain": [
       "'sci.space'"
      ]
     },
     "execution_count": 46,
     "metadata": {},
     "output_type": "execute_result"
    }
   ],
   "source": [
    "predict_category('he is in space for a week ')"
   ]
  },
  {
   "cell_type": "code",
   "execution_count": 47,
   "metadata": {},
   "outputs": [
    {
     "name": "stdout",
     "output_type": "stream",
     "text": [
      "[11]\n"
     ]
    },
    {
     "data": {
      "text/plain": [
       "'sci.crypt'"
      ]
     },
     "execution_count": 47,
     "metadata": {},
     "output_type": "execute_result"
    }
   ],
   "source": [
    "predict_category('BITS Pilani offers MBA in Business Analytics for working professionals')"
   ]
  },
  {
   "cell_type": "code",
   "execution_count": 48,
   "metadata": {},
   "outputs": [
    {
     "name": "stdout",
     "output_type": "stream",
     "text": [
      "[15]\n"
     ]
    },
    {
     "data": {
      "text/plain": [
       "'soc.religion.christian'"
      ]
     },
     "execution_count": 48,
     "metadata": {},
     "output_type": "execute_result"
    }
   ],
   "source": [
    "predict_category('Former Raj CM Jagannath Pahadia dies of COVID-19, Gehlot condoles his demise')"
   ]
  },
  {
   "cell_type": "code",
   "execution_count": 49,
   "metadata": {},
   "outputs": [
    {
     "name": "stdout",
     "output_type": "stream",
     "text": [
      "[14]\n"
     ]
    },
    {
     "data": {
      "text/plain": [
       "'sci.space'"
      ]
     },
     "execution_count": 49,
     "metadata": {},
     "output_type": "execute_result"
    }
   ],
   "source": [
    "predict_category('Delhi on Wednesday recorded a maximum temperature of 23.8 °C, the lowest in the month of May in Delhi since 1951, after rains under the impact of Cyclone Tauktae, IMD said. The temperature was 16 degrees below the normal maximum temperature in the national capital in May. The Safdarjung Observatory recorded 31.3 mm rainfall between 8:30am and 5:30pm, IMD said') "
   ]
  },
  {
   "cell_type": "code",
   "execution_count": 50,
   "metadata": {},
   "outputs": [
    {
     "name": "stdout",
     "output_type": "stream",
     "text": [
      "[11]\n"
     ]
    },
    {
     "data": {
      "text/plain": [
       "'sci.crypt'"
      ]
     },
     "execution_count": 50,
     "metadata": {},
     "output_type": "execute_result"
    }
   ],
   "source": [
    "predict_category(\"We'll permit door-to-door COVID-19 vaccination if Centre does not: Bombay HC\")"
   ]
  },
  {
   "cell_type": "code",
   "execution_count": 51,
   "metadata": {},
   "outputs": [
    {
     "name": "stdout",
     "output_type": "stream",
     "text": [
      "[16]\n"
     ]
    },
    {
     "data": {
      "text/plain": [
       "'talk.politics.guns'"
      ]
     },
     "execution_count": 51,
     "metadata": {},
     "output_type": "execute_result"
    }
   ],
   "source": [
    "predict_category(\"Facebook, Twitter told to carry correction notice on 'Singapore COVID-19 variant'\")"
   ]
  },
  {
   "cell_type": "code",
   "execution_count": 52,
   "metadata": {},
   "outputs": [
    {
     "name": "stdout",
     "output_type": "stream",
     "text": [
      "[15]\n"
     ]
    },
    {
     "data": {
      "text/plain": [
       "'soc.religion.christian'"
      ]
     },
     "execution_count": 52,
     "metadata": {},
     "output_type": "execute_result"
    }
   ],
   "source": [
    "predict_category(\"Will be in position to vaccinate all adults in India by end of year: Govt\")"
   ]
  },
  {
   "cell_type": "code",
   "execution_count": 53,
   "metadata": {},
   "outputs": [
    {
     "name": "stdout",
     "output_type": "stream",
     "text": [
      "[7]\n"
     ]
    },
    {
     "data": {
      "text/plain": [
       "'rec.autos'"
      ]
     },
     "execution_count": 53,
     "metadata": {},
     "output_type": "execute_result"
    }
   ],
   "source": [
    "predict_category(\"Home testing kit for COVID-19 by Mylab gets ICMR approval\")"
   ]
  },
  {
   "cell_type": "code",
   "execution_count": 54,
   "metadata": {},
   "outputs": [
    {
     "name": "stdout",
     "output_type": "stream",
     "text": [
      "[13]\n"
     ]
    },
    {
     "data": {
      "text/plain": [
       "'sci.med'"
      ]
     },
     "execution_count": 54,
     "metadata": {},
     "output_type": "execute_result"
    }
   ],
   "source": [
    "predict_category(\"Advisory for COVID-19 home testing using Rapid Antigen Tests issued by ICMR\")"
   ]
  },
  {
   "cell_type": "code",
   "execution_count": 55,
   "metadata": {},
   "outputs": [
    {
     "name": "stdout",
     "output_type": "stream",
     "text": [
      "[15]\n"
     ]
    },
    {
     "data": {
      "text/plain": [
       "'soc.religion.christian'"
      ]
     },
     "execution_count": 55,
     "metadata": {},
     "output_type": "execute_result"
    }
   ],
   "source": [
    "predict_category(\"Ex-NSG chief JK Dutt, who led 26/11 Mumbai counter-terror operation, dies of COVID-19\")"
   ]
  },
  {
   "cell_type": "code",
   "execution_count": 56,
   "metadata": {},
   "outputs": [
    {
     "name": "stdout",
     "output_type": "stream",
     "text": [
      "[16]\n"
     ]
    },
    {
     "data": {
      "text/plain": [
       "'talk.politics.guns'"
      ]
     },
     "execution_count": 56,
     "metadata": {},
     "output_type": "execute_result"
    }
   ],
   "source": [
    "predict_category(\"PM mistakenly says 'COVID-19 cases should increase rapidly' during meet with DMs\")"
   ]
  },
  {
   "cell_type": "code",
   "execution_count": 57,
   "metadata": {},
   "outputs": [
    {
     "name": "stdout",
     "output_type": "stream",
     "text": [
      "[15]\n"
     ]
    },
    {
     "data": {
      "text/plain": [
       "'soc.religion.christian'"
      ]
     },
     "execution_count": 57,
     "metadata": {},
     "output_type": "execute_result"
    }
   ],
   "source": [
    "predict_category(\"ByteDance Co-founder to step down as CEO by 2021-end, says he's not an 'ideal manager'\")"
   ]
  },
  {
   "cell_type": "code",
   "execution_count": 58,
   "metadata": {},
   "outputs": [
    {
     "name": "stdout",
     "output_type": "stream",
     "text": [
      "[7]\n"
     ]
    },
    {
     "data": {
      "text/plain": [
       "'rec.autos'"
      ]
     },
     "execution_count": 58,
     "metadata": {},
     "output_type": "execute_result"
    }
   ],
   "source": [
    "predict_category(\"Mamata Banerjee, TMC leaders obstructing probe in Narada case: CBI\")"
   ]
  },
  {
   "cell_type": "code",
   "execution_count": 59,
   "metadata": {},
   "outputs": [
    {
     "name": "stdout",
     "output_type": "stream",
     "text": [
      "[17]\n"
     ]
    },
    {
     "data": {
      "text/plain": [
       "'talk.politics.mideast'"
      ]
     },
     "execution_count": 59,
     "metadata": {},
     "output_type": "execute_result"
    }
   ],
   "source": [
    "predict_category(\"Rockets fired at Israel from Lebanon, Israel strikes targets in Lebanon in response\")"
   ]
  },
  {
   "cell_type": "code",
   "execution_count": 60,
   "metadata": {},
   "outputs": [
    {
     "name": "stdout",
     "output_type": "stream",
     "text": [
      "[8]\n"
     ]
    },
    {
     "data": {
      "text/plain": [
       "'rec.motorcycles'"
      ]
     },
     "execution_count": 60,
     "metadata": {},
     "output_type": "execute_result"
    }
   ],
   "source": [
    "predict_category(\"Cyclist falls off bike while taking selfie in US; caught on live news\")"
   ]
  },
  {
   "cell_type": "code",
   "execution_count": 61,
   "metadata": {},
   "outputs": [
    {
     "name": "stdout",
     "output_type": "stream",
     "text": [
      "[13]\n"
     ]
    },
    {
     "data": {
      "text/plain": [
       "'sci.med'"
      ]
     },
     "execution_count": 61,
     "metadata": {},
     "output_type": "execute_result"
    }
   ],
   "source": [
    "predict_category(\"After my 2nd delivery, I gained lot of weight: Shweta on transformation\")"
   ]
  },
  {
   "cell_type": "code",
   "execution_count": 62,
   "metadata": {},
   "outputs": [
    {
     "name": "stdout",
     "output_type": "stream",
     "text": [
      "[14]\n"
     ]
    },
    {
     "data": {
      "text/plain": [
       "'sci.space'"
      ]
     },
     "execution_count": 62,
     "metadata": {},
     "output_type": "execute_result"
    }
   ],
   "source": [
    "predict_category(\"Indian Army develops system to convert liquid oxygen to oxygen gas\")"
   ]
  },
  {
   "cell_type": "code",
   "execution_count": 63,
   "metadata": {},
   "outputs": [
    {
     "name": "stdout",
     "output_type": "stream",
     "text": [
      "[5]\n"
     ]
    },
    {
     "data": {
      "text/plain": [
       "'comp.windows.x'"
      ]
     },
     "execution_count": 63,
     "metadata": {},
     "output_type": "execute_result"
    }
   ],
   "source": [
    "predict_category(\"NSUI files FIR against Sambit Patra, Raman Singh in toolkit case\")"
   ]
  },
  {
   "cell_type": "code",
   "execution_count": 64,
   "metadata": {},
   "outputs": [
    {
     "name": "stdout",
     "output_type": "stream",
     "text": [
      "[15]\n"
     ]
    },
    {
     "data": {
      "text/plain": [
       "'soc.religion.christian'"
      ]
     },
     "execution_count": 64,
     "metadata": {},
     "output_type": "execute_result"
    }
   ],
   "source": [
    "predict_category(\"Coimbatore temple consecrates 'Corona Devi' idol amid COVID surge\")"
   ]
  },
  {
   "cell_type": "code",
   "execution_count": 65,
   "metadata": {},
   "outputs": [
    {
     "name": "stdout",
     "output_type": "stream",
     "text": [
      "[15]\n"
     ]
    },
    {
     "data": {
      "text/plain": [
       "'soc.religion.christian'"
      ]
     },
     "execution_count": 65,
     "metadata": {},
     "output_type": "execute_result"
    }
   ],
   "source": [
    "predict_category('''The Bill & Melinda Gates Foundation said it's not investigating allegations against Microsoft Co-founder Bill Gates as they were made by \"an anonymous former employee\". In a statement to AP, the foundation's spokesperson said, \"We never received any formal complaints regarding Bill Gates.\" Earlier, the NYT reported Gates had asked women employees out for dates while married to Melinda Gates.''')"
   ]
  },
  {
   "cell_type": "code",
   "execution_count": 66,
   "metadata": {},
   "outputs": [
    {
     "name": "stdout",
     "output_type": "stream",
     "text": [
      "[17]\n"
     ]
    },
    {
     "data": {
      "text/plain": [
       "'talk.politics.mideast'"
      ]
     },
     "execution_count": 66,
     "metadata": {},
     "output_type": "execute_result"
    }
   ],
   "source": [
    "predict_category('''We believe cryptocurrencies are viable investment asset: Wells Fargo''')"
   ]
  },
  {
   "cell_type": "code",
   "execution_count": 67,
   "metadata": {},
   "outputs": [
    {
     "name": "stdout",
     "output_type": "stream",
     "text": [
      "[17]\n"
     ]
    },
    {
     "data": {
      "text/plain": [
       "'talk.politics.mideast'"
      ]
     },
     "execution_count": 67,
     "metadata": {},
     "output_type": "execute_result"
    }
   ],
   "source": [
    "predict_category('''Over 100 unexploded World War II bombs found in Solomon Islands''')"
   ]
  },
  {
   "cell_type": "code",
   "execution_count": 68,
   "metadata": {},
   "outputs": [],
   "source": [
    "# ---------------------------------------------------------------"
   ]
  },
  {
   "cell_type": "code",
   "execution_count": 69,
   "metadata": {},
   "outputs": [
    {
     "name": "stdout",
     "output_type": "stream",
     "text": [
      "[17]\n"
     ]
    },
    {
     "data": {
      "text/plain": [
       "'talk.politics.mideast'"
      ]
     },
     "execution_count": 69,
     "metadata": {},
     "output_type": "execute_result"
    }
   ],
   "source": [
    "predict_category('''Determined to continue Gaza operation until aim met: Israeli PM\n",
    "''')"
   ]
  },
  {
   "cell_type": "code",
   "execution_count": 70,
   "metadata": {},
   "outputs": [
    {
     "name": "stdout",
     "output_type": "stream",
     "text": [
      "[11]\n"
     ]
    },
    {
     "data": {
      "text/plain": [
       "'sci.crypt'"
      ]
     },
     "execution_count": 70,
     "metadata": {},
     "output_type": "execute_result"
    }
   ],
   "source": [
    "predict_category('''SEBI fines Biocon, ex-official ₹14 lakh for violating market norms''')"
   ]
  },
  {
   "cell_type": "code",
   "execution_count": 73,
   "metadata": {},
   "outputs": [
    {
     "name": "stdout",
     "output_type": "stream",
     "text": [
      "[17]\n"
     ]
    },
    {
     "data": {
      "text/plain": [
       "'talk.politics.mideast'"
      ]
     },
     "execution_count": 73,
     "metadata": {},
     "output_type": "execute_result"
    }
   ],
   "source": [
    "\n",
    "import numpy as np\n",
    "import pandas as pd\n",
    "from sklearn.datasets import fetch_20newsgroups\n",
    "\n",
    "data=fetch_20newsgroups()\n",
    "categories=data.target_names\n",
    "\n",
    "train=fetch_20newsgroups(subset='train',categories=categories)\n",
    "test=fetch_20newsgroups(subset='test',categories=categories)\n",
    "\n",
    "from sklearn.feature_extraction.text import TfidfVectorizer \n",
    "from sklearn.naive_bayes import MultinomialNB\n",
    "from sklearn.pipeline import make_pipeline \n",
    "\n",
    "model=make_pipeline(TfidfVectorizer(),MultinomialNB()) \n",
    "model.fit(train.data,train.target)\n",
    "labels=model.predict(test.data)\n",
    "\n",
    "from sklearn.metrics import confusion_matrix\n",
    "mat=confusion_matrix(test.target,labels)\n",
    "\n",
    "def predict_category(s,train=train,model=model):\n",
    "    pred=model.predict([s])\n",
    "    print(pred)\n",
    "    return train.target_names[pred[0]]\n",
    "\n",
    "predict_category('''\n",
    "Determined to continue Gaza operation until aim met: Israeli PM\n",
    "''') "
   ]
  },
  {
   "cell_type": "code",
   "execution_count": null,
   "metadata": {},
   "outputs": [],
   "source": []
  }
 ],
 "metadata": {
  "kernelspec": {
   "display_name": "Python 3",
   "language": "python",
   "name": "python3"
  },
  "language_info": {
   "codemirror_mode": {
    "name": "ipython",
    "version": 3
   },
   "file_extension": ".py",
   "mimetype": "text/x-python",
   "name": "python",
   "nbconvert_exporter": "python",
   "pygments_lexer": "ipython3",
   "version": "3.8.3"
  }
 },
 "nbformat": 4,
 "nbformat_minor": 2
}
